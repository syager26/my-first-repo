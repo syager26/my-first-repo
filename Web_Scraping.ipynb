{
  "nbformat": 4,
  "nbformat_minor": 0,
  "metadata": {
    "colab": {
      "provenance": []
    },
    "kernelspec": {
      "name": "python3",
      "display_name": "Python 3"
    },
    "language_info": {
      "name": "python"
    }
  },
  "cells": [
    {
      "cell_type": "markdown",
      "source": [
        "## IS-4100: Web Scraping NFL Draft Data\n",
        "\n",
        "## Overview:\n",
        "In this lab, you will learn how to gather NFL draft and scouting data from various websites through web scraping, perform exploratory data analysis (EDA), and build a machine learning model to predict player success in the NFL. You will use **Python / R**, with libraries such as **BeautifulSoup**, **RSelenium**, and **requests** for scraping, **pandas** (Python) or **dplyr** and **tidyverse** (R) for data manipulation, and **scikit-learn** (Python) or **caret** (R) for model building.\n",
        "\n",
        "## Objectives:\n",
        "- Learn web scraping techniques using Python or R.\n",
        "- Perform exploratory data analysis (EDA) on NFL draft data.\n",
        "- Build a predictive model to analyze draft data and predict player success (e.g., Pro Bowl appearances, number of career games, or player performance ratings).\n",
        "- Evaluate the model's performance and analyze its implications.\n",
        "\n",
        "## Instructions:\n",
        "\n",
        "### Part 1: Web Scraping NFL Draft Data\n",
        "**Task**: Write a script to scrape NFL draft data. You may use Python or R for this task. Suggested websites include:\n",
        "- Pro Football Reference (NFL Draft)\n",
        "- NFL Scouting Data\n",
        "\n",
        "**For Python**:\n",
        "- Use libraries such as `BeautifulSoup`, `requests`, and `lxml`.\n",
        "- Example: Scraping player data using `BeautifulSoup` and cleaning it with `pandas`.\n",
        "\n",
        "**For R**:\n",
        "- Use libraries such as `rvest`, `RSelenium`, and `xml2`.\n",
        "- Example: Scraping player data with `rvest` and cleaning it with `dplyr`.\n",
        "\n",
        "You are expected to scrape the following information for at least one NFL draft year:\n",
        "- Player name\n",
        "- Position\n",
        "- College\n",
        "- Draft round and pick number\n",
        "- NFL team\n",
        "\n",
        "**Deliverables**:\n",
        "- A cleaned `pandas` DataFrame (Python) or a cleaned `tibble` (R) containing the scraped data.\n",
        "- Save the data to a `.csv` file for further analysis.\n",
        "\n",
        "### Part 2: Exploratory Data Analysis (EDA)\n",
        "**Task**: Perform an EDA on the scraped NFL draft data. Analyze the following:\n",
        "- Distribution of players by position.\n",
        "- Number of players drafted by round.\n",
        "- Success metrics like Pro Bowl appearances, number of games played, or All-Pro selections (if available).\n",
        "\n",
        "**Questions to Explore**:\n",
        "- Are certain positions more frequently drafted in the early rounds?\n",
        "- Which colleges or conferences have the highest number of players drafted?\n",
        "\n",
        "**For Python**:\n",
        "- Use `pandas` and `matplotlib` or `seaborn` for visualizations.\n",
        "\n",
        "**For R**:\n",
        "- Use `ggplot2` for visualizations and `dplyr` for data manipulation.\n",
        "\n",
        "**Deliverables**:\n",
        "- Visualizations (bar charts, histograms, etc.) of your findings.\n",
        "- Summary statistics (mean, median, mode) for key variables like draft round and \"career value\".\n",
        "\n",
        "### Part 3: Predictive Modeling\n",
        "**Task**: Build a machine learning model to predict player success based on draft data. You may use either Python or R for model building.\n",
        "\n",
        "- **For Python**:\n",
        "  - Use `scikit-learn` for model building and evaluation.\n",
        "  \n",
        "- **For R**:\n",
        "  - Use `caret` for model building and evaluation.\n",
        "\n",
        "**Steps**:\n",
        "1. Split the data into training and testing sets.\n",
        "2. Choose an appropriate model (e.g., logistic regression, decision tree, random forest).\n",
        "3. Train the model and evaluate its performance using appropriate metrics such as accuracy, precision, and recall.\n",
        "\n",
        "**Deliverables**:\n",
        "- Model training and evaluation code.\n",
        "- A brief explanation of the model's performance and potential ways to improve it.\n",
        "\n",
        "### Part 4: Analysis and Discussion\n",
        "**Task**: Analyze the results of your model and discuss the implications. Consider the following:\n",
        "- What features were most important in predicting success?\n",
        "- How could the model be improved (e.g., by gathering more data or using more advanced techniques)?\n",
        "- Discuss potential biases in the data (e.g., players from larger schools being favored) and how they might affect the model.\n",
        "\n",
        "**Deliverables**:\n",
        "- A short report (2-3 paragraphs) summarizing your analysis and reflections on the results.\n"
      ],
      "metadata": {
        "id": "U3cLGDbMy-9V"
      }
    },
    {
      "cell_type": "code",
      "execution_count": null,
      "metadata": {
        "id": "1vjIpaZty9Za"
      },
      "outputs": [],
      "source": []
    }
  ]
}