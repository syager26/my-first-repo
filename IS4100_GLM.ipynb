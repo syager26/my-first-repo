{
  "nbformat": 4,
  "nbformat_minor": 0,
  "metadata": {
    "colab": {
      "provenance": []
    },
    "kernelspec": {
      "name": "python3",
      "display_name": "Python 3"
    },
    "language_info": {
      "name": "python"
    }
  },
  "cells": [
    {
      "cell_type": "markdown",
      "source": [
        "# IS-4100: NFL Team Performance Analysis using Generalized Linear Models (GLMs)\n",
        "\n",
        "**Why are GLMs Useful?**\n",
        "- Flexibility in Modeling Different Types of Data:\n",
        "  - GLMs can handle various types of response variables:\n",
        "    - Continuous (Normal distribution)\n",
        "    - Binary outcomes (Binomial distribution)\n",
        "    - Counts (Poisson or Negative Binomial distribution)\n",
        "    - Proportions and more\n",
        "  - This flexibility allows for modeling data that do not meet the assumptions of traditional linear regression (e.g., non-constant variance, non-normal errors).\n",
        "- Appropriate for Non-Normal Distributions:\n",
        "  - Many real-world datasets have response variables that are skewed, bounded, or discrete.\n",
        "  - GLMs can model these variables appropriately, providing better estimates and inference.\n",
        "- Interpretability:\n",
        "  - Coefficients in GLMs can often be interpreted in terms of odds ratios, risk ratios, or rate ratios, which are meaningful in many applied contexts.\n",
        "- Extensibility:\n",
        "  - GLMs form the foundation for more advanced models like Generalized Linear Mixed Models (GLMMs), allowing for random effects and hierarchical data structures.\n",
        "- Modeling Non-Linear Relationships:\n",
        "  - Through the use of link functions, GLMs can model non-linear relationships between the predictors and the response variable.\n",
        "\n",
        "In this lab, you will analyze NFL team performance data using Generalized Linear Models (GLMs). You'll utilize the `nfl_data_py` or `nflfastR` to perform your analysis.\n",
        "\n",
        "**Learning Objectives**\n",
        "- Data Retrieval: Learn how to fetch and manipulate NFL data using `nfl_data_py` or `nflfastR`.\n",
        "- Data Preprocessing: Clean and prepare the dataset for modeling.\n",
        "- GLM Modeling: Understand and apply GLMs to model NFL team performance.\n",
        "- Interpretation: Interpret the results of your GLM and derive meaningful insights.\n",
        "\n",
        "**Assignment Overview**\n",
        "\n",
        "You will perform the following tasks:\n",
        "\n",
        "- Setup and Data Retrieval\n",
        "- Data Preprocessing / EDA\n",
        "  - Build upon feedback and extra functions / methods we have covered in class.\n",
        "- GLM Modeling\n",
        "  - Choose an appropriate GLM for modeling team performance.\n",
        "  - Fit the model and check for assumptions.\n",
        "- Results Interpretation\n",
        "  - Analyze the output of your GLM.\n",
        "  - Discuss the implications of your findings.\n",
        "- Reporting\n",
        "  - Summarize your methodology, results, and conclusions in a brief report.\n",
        "\n",
        "**Extra Resources**\n",
        "- [nfl_data_py Documentation](https://pypi.org/project/nfl-data-py/)\n",
        "- [nflfastR Documentation](https://www.nflfastr.com/)\n",
        "- [nflfastR Data Dictionary](https://www.nflfastr.com/articles/field_descriptions.html)\n",
        "- [Generalized Linear Models in Python: A Comprehensive Guide](https://statisticseasily.com/generalized-linear-models-in-python/#google_vignette)\n",
        "- [GLM guide in R](https://albert-rapp.de/posts/14_glms/14_glms)\n",
        "\n",
        "**Potential Areas to Explore**\n",
        "- Predicting Touchdown Probability\n",
        "  - Estimate the probability of a play resulting in a touchdown based on game and play characteristics.\n",
        "  - Model: Logistic Regression.\n",
        "- Estimating Player Performance with Poisson Regression\n",
        "  - Predict the number of tackles a defensive player makes in a game (count data).\n",
        "- Assessing Penalty Likelihood\n",
        "  - Predict the probability of a penalty occurring on a play.\n",
        "  - Model: Logistic Regression\n",
        "- Evaluating Defensive Sack Rates\n",
        "  - Analyze factors that contribute to the likelihood of a quarterback sack.\n",
        "  - Model: Logistic Regression.\n",
        "- Modeling Over/Under Betting Outcomes\n",
        "  - Objective: Predict if the total game score will be over or under the bookmaker's line.\n",
        "  - Model: Logistic Regression."
      ],
      "metadata": {
        "id": "g3FjhesML1hM"
      }
    },
    {
      "cell_type": "code",
      "execution_count": null,
      "metadata": {
        "id": "Kr4CbDSRLz3Z"
      },
      "outputs": [],
      "source": []
    }
  ]
}