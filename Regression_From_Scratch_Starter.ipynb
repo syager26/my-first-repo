{
  "nbformat": 4,
  "nbformat_minor": 0,
  "metadata": {
    "colab": {
      "provenance": []
    },
    "kernelspec": {
      "name": "python3",
      "display_name": "Python 3"
    },
    "language_info": {
      "name": "python"
    }
  },
  "cells": [
    {
      "cell_type": "markdown",
      "source": [
        "# **IS-4100: Linear Regression from Scratch**\n",
        "\n",
        "### **Objective**\n",
        "In this assignment, you will implement a simple linear regression model from scratch using NumPy. You will compute the slope ($m$) and intercept ($b$) of the best-fit line using the least squares method and evaluate your implementation with test data.\n",
        "\n",
        "---\n",
        "\n",
        "### **Background**\n",
        "Linear regression is used to find the relationship between a dependent variable ($y$) and an independent variable ($x$). The formula for the regression line is:\n",
        "\n",
        "$$\n",
        "y = mx + b\n",
        "$$\n",
        "\n",
        "Where:\n",
        "- **\\(m\\) (slope)** is calculated as:\n",
        "$$\n",
        "m = \\frac{\\sum (x_i - \\bar{x})(y_i - \\bar{y})}{\\sum (x_i - \\bar{x})^2}\n",
        "$$\n",
        "\n",
        "- **\\(b\\) (intercept)** is calculated as:\n",
        "$$\n",
        "b = \\bar{y} - m \\bar{x}\n",
        "$$\n",
        "\n",
        "The model predicts values of ($y$) (dependent variable) based on ($x$) (independent variable). The **goodness of fit** of the model can be measured using the ($R^2$) value, which quantifies how well the model explains the variability in the data.\n",
        "\n",
        "---\n",
        "\n",
        "### **Task**\n",
        "\n",
        "1. **Implement the Linear Regression Formula**\n",
        "   - Write a function `linear_regression(x, y)` that takes two NumPy arrays ($x$) (independent variable) and ($y$) (dependent variable) as inputs.\n",
        "   - Compute the slope ($m$) and intercept ($b$) using the least squares method.\n",
        "   - Return the slope and intercept as a tuple.\n",
        "\n",
        "2. **Predict Using the Model**\n",
        "   - Write a function `predict(x, m, b)` that takes ($x$), ($m$), and \\($b$) as inputs and predicts ($y$) values using the regression line formula.\n",
        "\n",
        "3. **Evaluate the Model**\n",
        "   - Write a function `r_squared(y_true, y_pred)` to compute the ($R^2$) value, which measures how well the model fits the data:\n",
        "   $$\n",
        "   R^2 = 1 - \\frac{\\sum (y_i - \\hat{y}_i)^2}{\\sum (y_i - \\bar{y})^2}\n",
        "   $$\n",
        "\n",
        "4. **Test Your Implementation**\n",
        "   - Use the provided dataset to test your functions.\n",
        "   - Compare your slope, intercept, and ($R^2$) results with the implementation from `sklearn.linear_model.LinearRegression`.\n",
        "\n",
        "---\n",
        "\n",
        "### **Dataset**\n",
        "\n",
        "You can use the following dataset to test your implementation:\n",
        "\n",
        "```python\n",
        "import numpy as np\n",
        "\n",
        "# Independent variable (e.g., hours studied)\n",
        "x = np.array([1, 2, 3, 4, 5, 6, 7, 8, 9, 10])\n",
        "\n",
        "# Dependent variable (e.g., test scores)\n",
        "y = np.array([50, 55, 61, 66, 70, 74, 79, 83, 88, 92])\n"
      ],
      "metadata": {
        "id": "O8G3pTh7tdT-"
      }
    }
  ]
}